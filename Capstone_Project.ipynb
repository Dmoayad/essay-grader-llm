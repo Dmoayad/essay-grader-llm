{
  "nbformat": 4,
  "nbformat_minor": 0,
  "metadata": {
    "colab": {
      "provenance": [],
      "machine_shape": "hm",
      "gpuType": "T4"
    },
    "kernelspec": {
      "name": "python3",
      "display_name": "Python 3"
    },
    "language_info": {
      "name": "python"
    },
    "accelerator": "GPU"
  },
  "cells": [
    {
      "cell_type": "code",
      "execution_count": null,
      "metadata": {
        "id": "9ZlWQVJbyrmL"
      },
      "outputs": [],
      "source": [
        "!pip install -q torch transformers accelerate bitsandbytes sentence-transformers faiss-gpu-cu11"
      ]
    },
    {
      "cell_type": "markdown",
      "source": [
        "1 - Data preprocessing\\\n",
        "2 - Integrating RAG \\\n",
        "3 - Plagiarism agent \\\n",
        "4 - using api\n"
      ],
      "metadata": {
        "id": "LamdumZtk4sr"
      }
    },
    {
      "cell_type": "code",
      "source": [
        "import locale\n",
        "locale.getpreferredencoding = lambda: \"UTF-8\""
      ],
      "metadata": {
        "id": "1F8uYoWn7VwF"
      },
      "execution_count": null,
      "outputs": []
    },
    {
      "cell_type": "code",
      "source": [
        "!pip install -q langchain\n",
        "!pip install -U langchain-community langchain-openai langchainhub -q\n",
        "!pip install gradio --q"
      ],
      "metadata": {
        "id": "JqGiHNYV8_2L",
        "colab": {
          "base_uri": "https://localhost:8080/"
        },
        "outputId": "12843246-9181-4b8a-e083-19be135fdcb3"
      },
      "execution_count": null,
      "outputs": [
        {
          "output_type": "stream",
          "name": "stdout",
          "text": [
            "\u001b[?25l   \u001b[90m━━━━━━━━━━━━━━━━━━━━━━━━━━━━━━━━━━━━━━━━\u001b[0m \u001b[32m0.0/2.5 MB\u001b[0m \u001b[31m?\u001b[0m eta \u001b[36m-:--:--\u001b[0m\r\u001b[2K   \u001b[91m━━━━━━━━━━━━━━━━━━━━━━━━━━━━━━━━━━━━━━━\u001b[0m\u001b[91m╸\u001b[0m \u001b[32m2.5/2.5 MB\u001b[0m \u001b[31m149.7 MB/s\u001b[0m eta \u001b[36m0:00:01\u001b[0m\r\u001b[2K   \u001b[90m━━━━━━━━━━━━━━━━━━━━━━━━━━━━━━━━━━━━━━━━\u001b[0m \u001b[32m2.5/2.5 MB\u001b[0m \u001b[31m63.5 MB/s\u001b[0m eta \u001b[36m0:00:00\u001b[0m\n",
            "\u001b[2K   \u001b[90m━━━━━━━━━━━━━━━━━━━━━━━━━━━━━━━━━━━━━━━━\u001b[0m \u001b[32m54.9/54.9 kB\u001b[0m \u001b[31m4.0 MB/s\u001b[0m eta \u001b[36m0:00:00\u001b[0m\n",
            "\u001b[2K   \u001b[90m━━━━━━━━━━━━━━━━━━━━━━━━━━━━━━━━━━━━━━━━\u001b[0m \u001b[32m1.2/1.2 MB\u001b[0m \u001b[31m63.2 MB/s\u001b[0m eta \u001b[36m0:00:00\u001b[0m\n",
            "\u001b[2K   \u001b[90m━━━━━━━━━━━━━━━━━━━━━━━━━━━━━━━━━━━━━━━━\u001b[0m \u001b[32m50.9/50.9 kB\u001b[0m \u001b[31m4.7 MB/s\u001b[0m eta \u001b[36m0:00:00\u001b[0m\n",
            "\u001b[2K   \u001b[90m━━━━━━━━━━━━━━━━━━━━━━━━━━━━━━━━━━━━━━━━\u001b[0m \u001b[32m62.3/62.3 MB\u001b[0m \u001b[31m16.5 MB/s\u001b[0m eta \u001b[36m0:00:00\u001b[0m\n",
            "\u001b[2K   \u001b[90m━━━━━━━━━━━━━━━━━━━━━━━━━━━━━━━━━━━━━━━━\u001b[0m \u001b[32m322.0/322.0 kB\u001b[0m \u001b[31m25.9 MB/s\u001b[0m eta \u001b[36m0:00:00\u001b[0m\n",
            "\u001b[2K   \u001b[90m━━━━━━━━━━━━━━━━━━━━━━━━━━━━━━━━━━━━━━━━\u001b[0m \u001b[32m94.8/94.8 kB\u001b[0m \u001b[31m8.9 MB/s\u001b[0m eta \u001b[36m0:00:00\u001b[0m\n",
            "\u001b[2K   \u001b[90m━━━━━━━━━━━━━━━━━━━━━━━━━━━━━━━━━━━━━━━━\u001b[0m \u001b[32m12.6/12.6 MB\u001b[0m \u001b[31m100.1 MB/s\u001b[0m eta \u001b[36m0:00:00\u001b[0m\n",
            "\u001b[2K   \u001b[90m━━━━━━━━━━━━━━━━━━━━━━━━━━━━━━━━━━━━━━━━\u001b[0m \u001b[32m71.5/71.5 kB\u001b[0m \u001b[31m6.5 MB/s\u001b[0m eta \u001b[36m0:00:00\u001b[0m\n",
            "\u001b[2K   \u001b[90m━━━━━━━━━━━━━━━━━━━━━━━━━━━━━━━━━━━━━━━━\u001b[0m \u001b[32m62.3/62.3 kB\u001b[0m \u001b[31m6.1 MB/s\u001b[0m eta \u001b[36m0:00:00\u001b[0m\n",
            "\u001b[?25h"
          ]
        }
      ]
    },
    {
      "cell_type": "code",
      "source": [
        "from openai import OpenAI\n",
        "from langchain.llms import OpenAI as LangchainOpenAI\n",
        "from langchain_openai import ChatOpenAI\n",
        "from getpass import getpass\n",
        "\n",
        "# Get API key\n",
        "api_key = getpass('Enter your OpenAI API Key: ')\n",
        "\n",
        "# Create LangChain OpenAI instance with the API key\n",
        "llm= ChatOpenAI(model=\"gpt-4o-mini\",openai_api_key=api_key, temperature=0.1)\n",
        "# llm = LangchainOpenAI(model=\"gpt-4o-mini\",openai_api_key=api_key, temperature=0.1)"
      ],
      "metadata": {
        "colab": {
          "base_uri": "https://localhost:8080/"
        },
        "collapsed": true,
        "id": "E1zyvcP-ZqTe",
        "outputId": "6e3de7f9-8f2b-4a4e-ffbc-e5e7bbc2b6b4"
      },
      "execution_count": null,
      "outputs": [
        {
          "name": "stdout",
          "output_type": "stream",
          "text": [
            "Enter your OpenAI API Key: ··········\n"
          ]
        }
      ]
    },
    {
      "cell_type": "code",
      "source": [
        "# Prompt template for our model\n",
        "from langchain.prompts import PromptTemplate\n",
        "from langchain.chains import LLMChain, SequentialChain\n",
        "# 1. summary chain\n",
        "summary_prompt = PromptTemplate(\n",
        "    input_variables=[\"essay\"],\n",
        "    template=\"Summarize the following essay in 2-3 sentences:\\n\\n{essay}\"\n",
        ")\n",
        "summary_chain = LLMChain(llm=llm, prompt=summary_prompt, output_key=\"summary\")\n"
      ],
      "metadata": {
        "id": "N_j5Gt2QhyMz",
        "colab": {
          "base_uri": "https://localhost:8080/"
        },
        "outputId": "2a136113-4779-4ccc-958e-de1378b110b2"
      },
      "execution_count": null,
      "outputs": [
        {
          "output_type": "stream",
          "name": "stderr",
          "text": [
            "<ipython-input-5-77f03f793e7e>:9: LangChainDeprecationWarning: The class `LLMChain` was deprecated in LangChain 0.1.17 and will be removed in 1.0. Use :meth:`~RunnableSequence, e.g., `prompt | llm`` instead.\n",
            "  summary_chain = LLMChain(llm=llm, prompt=summary_prompt, output_key=\"summary\")\n"
          ]
        }
      ]
    },
    {
      "cell_type": "code",
      "source": [
        "# 2. rubric chain\n",
        "scoring_prompt = PromptTemplate(\n",
        "    input_variables=[\"essay\"],\n",
        "    template=\"\"\"Evaluate the following essay on a scale of 0-10 for each of these five categories:\n",
        "\n",
        "    1. Thesis & Main Argument\n",
        "    2. Evidence & Support\n",
        "    3. Organization & Structure\n",
        "    4. Critical Thinking\n",
        "    5. Writing Mechanics\n",
        "\n",
        "    Provide a score and a brief justification for each:\\n\\n{essay}\"\"\"\n",
        ")\n",
        "scoring_chain = LLMChain(llm=llm, prompt=scoring_prompt, output_key=\"scores\")\n"
      ],
      "metadata": {
        "id": "LSTlT60NikDw"
      },
      "execution_count": null,
      "outputs": []
    },
    {
      "cell_type": "code",
      "source": [
        "# 3. overall score chain\n",
        "overall_score_prompt = PromptTemplate(\n",
        "    input_variables=[\"scores\"],\n",
        "    template=\"Based on the following rubric scores, calculate an overall score out of 50:\\n\\n{scores}, write the title and the score without detal, make it easy to read by the users\"\n",
        ")\n",
        "overall_score_chain = LLMChain(llm=llm, prompt=overall_score_prompt, output_key=\"overall_score\")"
      ],
      "metadata": {
        "id": "lNqCMNNQi1KR"
      },
      "execution_count": null,
      "outputs": []
    },
    {
      "cell_type": "code",
      "source": [
        "# 4. strengths chain\n",
        "strengths_prompt = PromptTemplate(\n",
        "    input_variables=[\"essay\"],\n",
        "    template=\"List three specific strengths of the following essay:\\n\\n{essay}\"\n",
        ")\n",
        "strengths_chain = LLMChain(llm=llm, prompt=strengths_prompt, output_key=\"strengths\")\n"
      ],
      "metadata": {
        "id": "TfneNCpHjEEs"
      },
      "execution_count": null,
      "outputs": []
    },
    {
      "cell_type": "code",
      "source": [
        "# 5. improvement chain\n",
        "improvements_prompt = PromptTemplate(\n",
        "    input_variables=[\"essay\"],\n",
        "    template=\"\"\"List three actionable areas for improvement in the following essay, along with concrete\n",
        "    examples of how the writer can improve:\\n\\n{essay}\"\"\"\n",
        ")\n",
        "improvements_chain = LLMChain(llm=llm, prompt=improvements_prompt, output_key=\"improvements\")\n"
      ],
      "metadata": {
        "id": "WpS1MCcojLCz"
      },
      "execution_count": null,
      "outputs": []
    },
    {
      "cell_type": "code",
      "source": [
        "# 6.  final feedback chain\n",
        "feedback_prompt = PromptTemplate(\n",
        "    input_variables=[\"summary\", \"scores\", \"strengths\", \"improvements\"],\n",
        "    template=\"\"\"Based on the summary, rubric scores, strengths, and areas for improvement, provide a final\n",
        "    paragraph of constructive feedback focusing on the most impactful ways the writer can improve:\\n\n",
        "    Summary: {summary}\n",
        "    Scores: {scores}\n",
        "    Strengths: {strengths}\n",
        "    Areas for Improvement: {improvements}\"\"\"\n",
        ")\n",
        "feedback_chain = LLMChain(llm=llm, prompt=feedback_prompt, output_key=\"feedback\")"
      ],
      "metadata": {
        "id": "JGiwWet6jXTa"
      },
      "execution_count": null,
      "outputs": []
    },
    {
      "cell_type": "code",
      "source": [
        "grading_chain = SequentialChain(\n",
        "    chains=[summary_chain, scoring_chain, overall_score_chain, strengths_chain, improvements_chain, feedback_chain],\n",
        "    input_variables=[\"essay\"],\n",
        "    output_variables=[\"summary\", \"scores\", \"overall_score\", \"strengths\", \"improvements\", \"feedback\"]\n",
        ")"
      ],
      "metadata": {
        "id": "LG7y2bgYjdDy"
      },
      "execution_count": null,
      "outputs": []
    },
    {
      "cell_type": "code",
      "source": [
        "essay_text = input(\"Your essay here...\")\n",
        "# For my Harvard LLM personal statement, I began by listing all of the significant experiences in my life. This process was free-flowing: I wrote down everything that came to mind, in no particular order. I didn't categorize or prioritize at first - just followed my associations.\n",
        "\n",
        "# I didn’t discriminate between long-term experiences and brief ones. I focused on what felt subjectively important and highlighted particularly formative experiences.\n",
        "\n",
        "# I spent a significant of time trying to find an overarching theme that would connect my personal personal experiences to broader concepts because I like framing my life in this way. However, this is a personal choice - you don’t have to do the same.\n",
        "\n",
        "# For me, the most formative experiences included, in no specific order:\n",
        "\n",
        "# Participating in five All-Russian Olympiads in law (three in high school, two at Moscow State University), winning two first prizes and three third prizes. The one I won at 17 was especially impactful because it allowed me to choose any law faculty in the country without exams.\n",
        "# Competing in moot courts, specifically the Concours Charles-Rousseau and the Philip C. Jessup competitions. I also coached a team for the Charles-Rousseau for three years.\n",
        "# Growing up in extreme poverty with my father\n",
        "# Teaching law of obligations to third-year students at Moscow State University.\n",
        "# Working as a researcher at the Higher School of Economics, contributing to projects for the Russian Central Bank and participating in the banking law reform.\n",
        "# Learning German and French through three university classes and self-study to participate in academic programs abroad.\n",
        "# Working at a German law firm for three years.\n",
        "# I will elaborate on a few of these experiences. You'll notice my descriptions are fairly detailed - not to overindulge myself to show just how much context I had to explore and analyze before I choosing stories for my personal statement. I recommend doing the same for your essays. This approach can help you feel more confident about your profile and make your choices more strategic and informed.\"\"\"\n",
        "result = grading_chain(essay_text)\n",
        "result.pop(\"essay\", None)\n",
        "print(result)"
      ],
      "metadata": {
        "colab": {
          "base_uri": "https://localhost:8080/"
        },
        "id": "quAK5wPbp7-o",
        "outputId": "f62fe85c-b1d5-45c2-d3c8-5811825ced48"
      },
      "execution_count": null,
      "outputs": [
        {
          "name": "stdout",
          "output_type": "stream",
          "text": [
            "Your essay here...Japan’s cherry blossoms, known as sakura, are one of the country’s most iconic symbols. These delicate pink and white flowers bloom in early spring, transforming parks and streets into breathtaking landscapes. Beyond their beauty, sakura hold deep cultural and historical significance in Japan, representing themes of renewal, impermanence, and unity.  The fleeting nature of cherry blossoms, which bloom for only a short period before falling, reflects the Japanese concept of mono no aware—an appreciation for the transient beauty of life. This idea is deeply ingrained in Japanese culture, reminding people to cherish the present moment.  Hanami, or \"flower viewing,\" is a beloved tradition in Japan where families and friends gather under the cherry trees for picnics and celebrations. This practice dates back to the Heian period (794–1185), when aristocrats admired the blossoms while composing poetry. Today, hanami is a nationwide event, with major parks in Tokyo, Kyoto, and Osaka filled with visitors enjoying the stunning scenery.  Sakura also play a role in Japanese art, literature, and even business. Many companies release limited-edition sakura-themed products during spring, from sweets to cosmetics. The blossoms symbolize new beginnings, making them especially significant during Japan’s school and fiscal year, which both start in April.  In essence, sakura represent more than just seasonal beauty; they embody the spirit of Japan—its appreciation for nature, tradition, and the fleeting moments that make life precious.\n"
          ]
        },
        {
          "output_type": "stream",
          "name": "stderr",
          "text": [
            "<ipython-input-16-55473c4287b7>:18: LangChainDeprecationWarning: The method `Chain.__call__` was deprecated in langchain 0.1.0 and will be removed in 1.0. Use :meth:`~invoke` instead.\n",
            "  result = grading_chain(essay_text)\n"
          ]
        },
        {
          "output_type": "stream",
          "name": "stdout",
          "text": [
            "{'summary': \"Japan's cherry blossoms, or sakura, are a symbol of beauty and cultural significance, representing themes of renewal and impermanence. Their brief blooming period reflects the Japanese concept of mono no aware, emphasizing the appreciation of life's transient moments. The tradition of hanami, where people gather to enjoy the blossoms, highlights their importance in Japanese culture, art, and even commerce, making sakura a profound representation of the nation's values and spirit.\", 'scores': 'Here’s an evaluation of the essay based on the specified categories:\\n\\n1. **Thesis & Main Argument: 8/10**\\n   - **Justification:** The thesis is clear and presents a strong main argument about the cultural and historical significance of cherry blossoms in Japan. It effectively sets the stage for the discussion that follows. However, it could be slightly more explicit in outlining the specific points that will be addressed in the essay.\\n\\n2. **Evidence & Support: 7/10**\\n   - **Justification:** The essay provides relevant examples, such as the tradition of hanami and the concept of mono no aware, which support the main argument. However, it could benefit from more detailed evidence or specific examples, such as quotes from literature or statistics about hanami participation, to strengthen the claims made.\\n\\n3. **Organization & Structure: 8/10**\\n   - **Justification:** The essay is well-organized, with a logical flow from the introduction of sakura to their cultural significance and contemporary relevance. Each paragraph transitions smoothly to the next. However, a clearer delineation of sections or a more explicit outline of points could enhance clarity.\\n\\n4. **Critical Thinking: 7/10**\\n   - **Justification:** The essay demonstrates a good understanding of the cultural significance of sakura and connects it to broader themes in Japanese culture. However, it could delve deeper into the implications of these themes or explore counterarguments or alternative perspectives to show a more nuanced understanding.\\n\\n5. **Writing Mechanics: 9/10**\\n   - **Justification:** The writing is generally clear and free of grammatical errors. The vocabulary is appropriate, and the sentences are well-constructed. A minor point of improvement could be the use of more varied sentence structures to enhance the overall readability and engagement of the essay.\\n\\n**Overall Assessment: 39/50**  \\nThis essay effectively communicates the significance of cherry blossoms in Japan, supported by relevant examples and a clear structure. With some enhancements in evidence and critical analysis, it could achieve an even higher score.', 'overall_score': '**Title: Evaluation of Essay on Cherry Blossoms in Japan**  \\n**Overall Score: 39/50**', 'strengths': '1. **Cultural Depth and Context**: The essay effectively explores the cultural and historical significance of cherry blossoms (sakura) in Japan. It connects the beauty of the blossoms to deeper themes such as renewal, impermanence, and unity, illustrating how these concepts are woven into the fabric of Japanese culture. This depth adds richness to the discussion and provides readers with a broader understanding of why sakura are so cherished.\\n\\n2. **Clear Structure and Flow**: The essay is well-organized, with a logical progression of ideas. It begins with an introduction to sakura, followed by an explanation of their cultural significance, the tradition of hanami, and their impact on art and commerce. This clear structure helps guide the reader through the various aspects of sakura, making the information easy to digest and follow.\\n\\n3. **Engaging Language and Imagery**: The use of descriptive language and vivid imagery enhances the reader\\'s experience. Phrases like \"transforming parks and streets into breathtaking landscapes\" and \"the fleeting nature of cherry blossoms\" evoke strong visual and emotional responses. This engaging style not only captures the beauty of sakura but also emphasizes their importance in Japanese life, making the essay more compelling and memorable.', 'improvements': 'Here are three actionable areas for improvement in the essay, along with concrete examples of how the writer can enhance their work:\\n\\n1. **Enhance Structure and Flow:**\\n   - **Example:** The essay could benefit from clearer transitions between paragraphs and ideas. For instance, after discussing the cultural significance of sakura, the writer could use a transitional sentence to connect the discussion of hanami to the broader themes of renewal and impermanence. A sentence like, \"This cultural appreciation is vividly illustrated through the tradition of hanami, where the beauty of sakura brings people together in celebration,\" would help guide the reader more smoothly through the essay.\\n\\n2. **Incorporate Specific Examples and Details:**\\n   - **Example:** While the essay mentions hanami and its historical roots, it could be strengthened by including specific examples of popular hanami locations or notable events. For instance, the writer could mention specific parks like Ueno Park in Tokyo or Maruyama Park in Kyoto, and describe a typical hanami scene, such as families enjoying traditional foods like sakura mochi or sake under the blooming trees. This would provide a more vivid picture and engage the reader\\'s senses.\\n\\n3. **Deepen Analysis of Cultural Significance:**\\n   - **Example:** The essay touches on the themes of renewal and impermanence but could delve deeper into how these themes manifest in various aspects of Japanese life. The writer could explore how sakura influence not only personal reflections but also societal values, such as the Japanese work ethic or seasonal festivals. For instance, they could discuss how the cherry blossom season coincides with graduation ceremonies and new job beginnings, illustrating the connection between sakura and life transitions. This would enrich the essay\\'s analysis and provide a more comprehensive understanding of sakura\\'s significance in Japanese culture.', 'feedback': 'To enhance your essay on Japan\\'s cherry blossoms, consider focusing on three impactful areas for improvement. First, refine your structure and flow by incorporating clearer transitions between paragraphs. For instance, after discussing the cultural significance of sakura, you could introduce the tradition of hanami with a sentence that explicitly connects the two concepts, such as, \"This cultural appreciation is vividly illustrated through the tradition of hanami, where the beauty of sakura brings people together in celebration.\" This will help guide your readers more smoothly through your arguments. \\n\\nSecond, enrich your evidence and support by including specific examples and details. Mentioning well-known hanami locations, such as Ueno Park or Maruyama Park, and describing typical scenes—like families enjoying sakura mochi or sake under the blooming trees—will create a more vivid and engaging experience for your readers. \\n\\nLastly, deepen your analysis of the cultural significance of sakura by exploring how themes of renewal and impermanence manifest in various aspects of Japanese life. Discussing connections between cherry blossoms and societal values, such as the Japanese work ethic or seasonal festivals, can provide a more nuanced understanding of their importance. For example, you might highlight how the cherry blossom season coincides with graduation ceremonies, symbolizing new beginnings and transitions. By addressing these areas, you can elevate your essay\\'s depth and clarity, ultimately creating a more compelling narrative about the profound significance of sakura in Japanese culture.'}\n"
          ]
        }
      ]
    },
    {
      "cell_type": "code",
      "source": [
        "import gradio as gr\n",
        "from langchain.chains import SequentialChain\n",
        "\n",
        "# Function to process essay\n",
        "def process_essay(essay):\n",
        "    try:\n",
        "        results = grading_chain.invoke({\"essay\": essay})\n",
        "\n",
        "        # Format the output properly to avoid unintended code blocks\n",
        "        formatted_output = (\n",
        "            \"**Summary**\\n\\n\"\n",
        "            f\"{results['summary'].strip()}\\n\\n\"\n",
        "            \"**Detailed Scores**\\n\\n\"\n",
        "            f\"{results['scores'].strip()}\\n\\n\"\n",
        "            \"**Overall Score**\\n\\n\"\n",
        "            f\"{results['overall_score'].strip()}\\n\\n\"\n",
        "            \"**Key Strengths**\\n\\n\"\n",
        "            f\"{results['strengths'].strip()}\\n\\n\"\n",
        "            \"**Areas for Improvement**\\n\\n\"\n",
        "            f\"{results['improvements'].strip()}\\n\\n\"\n",
        "            \"**Overall Feedback**\\n\\n\"\n",
        "            f\"{results['feedback'].strip()}\"\n",
        "        )\n",
        "\n",
        "        return formatted_output\n",
        "\n",
        "    except Exception as e:\n",
        "        return f\"An error occurred: {str(e)}\"\n",
        "\n",
        "\n",
        "# Gradio Interface\n",
        "with gr.Blocks() as demo:\n",
        "    gr.Markdown(\"# Essay Grading System\")\n",
        "    essay_input = gr.Textbox(label=\"Enter your essay here\")\n",
        "    output_display = gr.Markdown()  # Use Markdown instead of Textbox for proper formatting\n",
        "    submit_button = gr.Button(\"Submit\")\n",
        "\n",
        "    submit_button.click(process_essay, inputs=essay_input, outputs=output_display)\n",
        "\n",
        "if __name__ == \"__main__\":\n",
        "    demo.launch()\n"
      ],
      "metadata": {
        "colab": {
          "base_uri": "https://localhost:8080/",
          "height": 648
        },
        "id": "Sz1RUqtiT_ib",
        "outputId": "304351b5-1bae-4c7b-d43a-45db87dd3bbf"
      },
      "execution_count": null,
      "outputs": [
        {
          "output_type": "stream",
          "name": "stdout",
          "text": [
            "Running Gradio in a Colab notebook requires sharing enabled. Automatically setting `share=True` (you can turn this off by setting `share=False` in `launch()` explicitly).\n",
            "\n",
            "Colab notebook detected. To show errors in colab notebook, set debug=True in launch()\n",
            "* Running on public URL: https://1c716a7eac57aa81d1.gradio.live\n",
            "\n",
            "This share link expires in 72 hours. For free permanent hosting and GPU upgrades, run `gradio deploy` from the terminal in the working directory to deploy to Hugging Face Spaces (https://huggingface.co/spaces)\n"
          ]
        },
        {
          "output_type": "display_data",
          "data": {
            "text/plain": [
              "<IPython.core.display.HTML object>"
            ],
            "text/html": [
              "<div><iframe src=\"https://1c716a7eac57aa81d1.gradio.live\" width=\"100%\" height=\"500\" allow=\"autoplay; camera; microphone; clipboard-read; clipboard-write;\" frameborder=\"0\" allowfullscreen></iframe></div>"
            ]
          },
          "metadata": {}
        }
      ]
    },
    {
      "cell_type": "code",
      "source": [
        " t"
      ],
      "metadata": {
        "id": "4sSPcwK3T_Xx"
      },
      "execution_count": null,
      "outputs": []
    },
    {
      "cell_type": "code",
      "source": [],
      "metadata": {
        "id": "axi2S6XCT_Lf"
      },
      "execution_count": null,
      "outputs": []
    },
    {
      "cell_type": "code",
      "source": [
        "\n",
        "\n",
        "# prompt = PromptTemplate(\n",
        "#     input_variables=['essay_text'],\n",
        "#     template='''You are an experienced essay grader. When given an essay, analyze it according to the following rubric, scoring each criterion from 0-10:\n",
        "\n",
        "# 1. Thesis & Main Argument\n",
        "# - Clear, specific thesis statement\n",
        "# - Consistent focus throughout the essay\n",
        "# - Well-developed main arguments\n",
        "\n",
        "# 2. Evidence & Support\n",
        "# - Relevant examples and evidence\n",
        "# - Proper citation of sources\n",
        "# - Effective integration of quotes/evidence\n",
        "\n",
        "# 3. Organization & Structure\n",
        "# - Logical flow between paragraphs\n",
        "# - Strong topic sentences\n",
        "# - Effective transitions\n",
        "# - Clear introduction and conclusion\n",
        "\n",
        "# 4. Critical Thinking\n",
        "# - Depth of analysis\n",
        "# - Consideration of counterarguments\n",
        "# - Original insights\n",
        "# - Logical reasoning\n",
        "\n",
        "# 5. Writing Mechanics\n",
        "# - Grammar and spelling\n",
        "# - Sentence structure variety\n",
        "# - Academic vocabulary\n",
        "# - Proper formatting\n",
        "\n",
        "# For each essay, provide:\n",
        "\n",
        "# 1. A brief summary (2-3 sentences) of the main arguments and key points\n",
        "# 2. Scores for each rubric criterion (0-10) with brief justification\n",
        "# 3. An overall score out of 50\n",
        "# 4. Three specific strengths of the essay\n",
        "# 5. Three actionable areas for improvement, with concrete examples of how to implement each suggestion\n",
        "# 6. A final paragraph of constructive feedback focusing on the most impactful ways the writer can improve their next essay\n",
        "\n",
        "# Maintain a supportive but professional tone. Focus on specific, implementable feedback rather than general comments. When identifying areas for improvement, always provide examples of how to address them.\n",
        "\n",
        "# Here are examples of essays and how they should be evaluated:\n",
        "\n",
        "# GOOD ESSAY EXAMPLE:\n",
        "\n",
        "# [Walking into the voting booth \"...every four years on the Tuesday after the first Monday in November\" (Office Of Federal Register 6), the people of the United States of America expect their vote to count. Although, the president is elected in a more indirect way, by the electoral college, which does not represent the people, and is not fair. The president should be elected by popular vote from now on...]\n",
        "\n",
        "# This essay demonstrates strong argumentation, clear structure, and effective use of evidence. Note the clear thesis statement, logical organization, and proper citation of sources. The analysis is thorough and considers multiple aspects of the electoral college system.\n",
        "\n",
        "# POOR ESSAY EXAMPLE:\n",
        "\n",
        "# [When sitting in class do you ever feel like you can read someones emotion, well now you can. With the new program Facial Action Coding System you can make a 3-D model of someone and scan the face mucsles to tell you what emotions they are feeling...]\n",
        "\n",
        "# This essay shows weaknesses in organization, lacks proper evidence, and has multiple mechanical errors. Note the informal tone, lack of clear thesis, and absence of proper paragraph structure and transitions.\n",
        "\n",
        "# Please grade the following essay:\n",
        "\n",
        "# {essay_text}''',\n",
        "# )\n",
        "\n",
        "# #prompt.format(essay_text = \"Your essay text here\")\n"
      ],
      "metadata": {
        "id": "J07NKgkWahGP"
      },
      "execution_count": null,
      "outputs": []
    },
    {
      "cell_type": "code",
      "source": [],
      "metadata": {
        "id": "yHyw6_iNnoO7"
      },
      "execution_count": null,
      "outputs": []
    },
    {
      "cell_type": "code",
      "source": [
        "# from langchain.chains import LLMChain\n",
        "# chain = LLMChain(llm=llm, prompt=prompt)\n",
        "# essay = input(\"Please insert your essay here!\")\n",
        "# # chain.run(essay)"
      ],
      "metadata": {
        "id": "kwDLUhGxW9lZ"
      },
      "execution_count": null,
      "outputs": []
    },
    {
      "cell_type": "code",
      "source": [],
      "metadata": {
        "id": "fuvmHGSK8uSi"
      },
      "execution_count": null,
      "outputs": []
    },
    {
      "cell_type": "code",
      "source": [
        "# llm = HuggingFaceHub(\n",
        "#             repo_id= \"meta-llama/Llama-3.1-8B-chat-hf\",  # e.g., \"meta-llama/Llama-2-70b-chat-hf\"\n",
        "#             model_kwargs={\n",
        "#                 \"temperature\": 0.1,  # Low temperature for more consistent grading\n",
        "#                 \"max_new_tokens\": 2000,\n",
        "#                 \"top_p\": 0.95\n",
        "#             }\n",
        "#         )"
      ],
      "metadata": {
        "id": "VVwlR7Q1IthY"
      },
      "execution_count": null,
      "outputs": []
    },
    {
      "cell_type": "code",
      "source": [
        "from langchain.document_loaders import GitHubIssuesLoader\n",
        "\n",
        "loader = GitHubIssuesLoader(\n",
        "    repo=\"huggingface/peft\",\n",
        "    access_token=ACCESS_TOKEN,\n",
        "    include_prs=False,\n",
        "    state=\"all\"\n",
        ")\n",
        "\n",
        "docs = loader.load()"
      ],
      "metadata": {
        "id": "aGSr0Ap62_OE",
        "colab": {
          "base_uri": "https://localhost:8080/",
          "height": 217
        },
        "outputId": "a063cb01-d902-45ff-fa72-0be7f54a230d"
      },
      "execution_count": null,
      "outputs": [
        {
          "output_type": "error",
          "ename": "NameError",
          "evalue": "name 'ACCESS_TOKEN' is not defined",
          "traceback": [
            "\u001b[0;31m---------------------------------------------------------------------------\u001b[0m",
            "\u001b[0;31mNameError\u001b[0m                                 Traceback (most recent call last)",
            "\u001b[0;32m<ipython-input-21-036d9fdddf22>\u001b[0m in \u001b[0;36m<cell line: 0>\u001b[0;34m()\u001b[0m\n\u001b[1;32m      3\u001b[0m loader = GitHubIssuesLoader(\n\u001b[1;32m      4\u001b[0m     \u001b[0mrepo\u001b[0m\u001b[0;34m=\u001b[0m\u001b[0;34m\"huggingface/peft\"\u001b[0m\u001b[0;34m,\u001b[0m\u001b[0;34m\u001b[0m\u001b[0;34m\u001b[0m\u001b[0m\n\u001b[0;32m----> 5\u001b[0;31m     \u001b[0maccess_token\u001b[0m\u001b[0;34m=\u001b[0m\u001b[0mACCESS_TOKEN\u001b[0m\u001b[0;34m,\u001b[0m\u001b[0;34m\u001b[0m\u001b[0;34m\u001b[0m\u001b[0m\n\u001b[0m\u001b[1;32m      6\u001b[0m     \u001b[0minclude_prs\u001b[0m\u001b[0;34m=\u001b[0m\u001b[0;32mFalse\u001b[0m\u001b[0;34m,\u001b[0m\u001b[0;34m\u001b[0m\u001b[0;34m\u001b[0m\u001b[0m\n\u001b[1;32m      7\u001b[0m     \u001b[0mstate\u001b[0m\u001b[0;34m=\u001b[0m\u001b[0;34m\"all\"\u001b[0m\u001b[0;34m\u001b[0m\u001b[0;34m\u001b[0m\u001b[0m\n",
            "\u001b[0;31mNameError\u001b[0m: name 'ACCESS_TOKEN' is not defined"
          ]
        }
      ]
    },
    {
      "cell_type": "code",
      "source": [
        "essay_grader_prompt = (\"\"\"\n",
        "You are an experienced essay grader. When given an essay, analyze it according to the following rubric, scoring each criterion from 0-10:\n",
        "\n",
        "1. Thesis & Main Argument\n",
        "- Clear, specific thesis statement\n",
        "- Consistent focus throughout the essay\n",
        "- Well-developed main arguments\n",
        "\n",
        "2. Evidence & Support\n",
        "- Relevant examples and evidence\n",
        "- Proper citation of sources\n",
        "- Effective integration of quotes/evidence\n",
        "\n",
        "3. Organization & Structure\n",
        "- Logical flow between paragraphs\n",
        "- Strong topic sentences\n",
        "- Effective transitions\n",
        "- Clear introduction and conclusion\n",
        "\n",
        "4. Critical Thinking\n",
        "- Depth of analysis\n",
        "- Consideration of counterarguments\n",
        "- Original insights\n",
        "- Logical reasoning\n",
        "\n",
        "5. Writing Mechanics\n",
        "- Grammar and spelling\n",
        "- Sentence structure variety\n",
        "- Academic vocabulary\n",
        "- Proper formatting\n",
        "\n",
        "For each essay, provide:\n",
        "\n",
        "1. A brief summary (2-3 sentences) of the main arguments and key points\n",
        "2. Scores for each rubric criterion (0-10) with brief justification\n",
        "3. An overall score out of 50\n",
        "4. Three specific strengths of the essay\n",
        "5. Three actionable areas for improvement, with concrete examples of how to implement each suggestion\n",
        "6. A final paragraph of constructive feedback focusing on the most impactful ways the writer can improve their next essay\n",
        "\n",
        "Maintain a supportive but professional tone. Focus on specific, implementable feedback rather than general comments. When identifying areas for improvement, always provide examples of how to address them.\n",
        "\n",
        "Here are examples of essays and how they should be evaluated:\n",
        "\n",
        "GOOD ESSAY EXAMPLE:\n",
        "\n",
        "[Walking into the voting booth \"...every four years on the Tuesday after the first Monday in November\" (Office Of Federal Register 6), the people of the United States of America expect their vote to count. Although, the president is elected in a more indirect way, by the electoral college, which does not represent the people, and is not fair. The president should be elected by popular vote from now on...]\n",
        "\n",
        "This essay demonstrates strong argumentation, clear structure, and effective use of evidence. Note the clear thesis statement, logical organization, and proper citation of sources. The analysis is thorough and considers multiple aspects of the electoral college system.\n",
        "\n",
        "POOR ESSAY EXAMPLE:\n",
        "\n",
        "[When sitting in class do you ever feel like you can read someones emotion, well now you can. With the new program Facial Action Coding System you can make a 3-D model of someone and scan the face mucsles to tell you what emotions they are feeling...]\n",
        "\n",
        "This essay shows weaknesses in organization, lacks proper evidence, and has multiple mechanical errors. Note the informal tone, lack of clear thesis, and absence of proper paragraph structure and transitions.\n",
        "\n",
        "Please grade the following essay:\n",
        "\n",
        "{essay_text}\"\"\"\n",
        ")"
      ],
      "metadata": {
        "id": "ztLogFSN74Fj",
        "colab": {
          "base_uri": "https://localhost:8080/",
          "height": 368
        },
        "outputId": "309290d9-635b-49df-e5b3-3049206745fc"
      },
      "execution_count": null,
      "outputs": [
        {
          "output_type": "error",
          "ename": "ValueError",
          "evalue": "Single '{' encountered in format string",
          "traceback": [
            "\u001b[0;31m---------------------------------------------------------------------------\u001b[0m",
            "\u001b[0;31mValueError\u001b[0m                                Traceback (most recent call last)",
            "\u001b[0;32m<ipython-input-34-fe6e825c4e42>\u001b[0m in \u001b[0;36m<cell line: 0>\u001b[0;34m()\u001b[0m\n\u001b[0;32m----> 1\u001b[0;31m essay_grader_prompt = ChatPromptTemplate(\"\"\"\n\u001b[0m\u001b[1;32m      2\u001b[0m \u001b[0mYou\u001b[0m \u001b[0mare\u001b[0m \u001b[0man\u001b[0m \u001b[0mexperienced\u001b[0m \u001b[0messay\u001b[0m \u001b[0mgrader\u001b[0m\u001b[0;34m.\u001b[0m \u001b[0mWhen\u001b[0m \u001b[0mgiven\u001b[0m \u001b[0man\u001b[0m \u001b[0messay\u001b[0m\u001b[0;34m,\u001b[0m \u001b[0manalyze\u001b[0m \u001b[0mit\u001b[0m \u001b[0maccording\u001b[0m \u001b[0mto\u001b[0m \u001b[0mthe\u001b[0m \u001b[0mfollowing\u001b[0m \u001b[0mrubric\u001b[0m\u001b[0;34m,\u001b[0m \u001b[0mscoring\u001b[0m \u001b[0meach\u001b[0m \u001b[0mcriterion\u001b[0m \u001b[0;32mfrom\u001b[0m \u001b[0;36m0\u001b[0m\u001b[0;34m-\u001b[0m\u001b[0;36m10\u001b[0m\u001b[0;34m:\u001b[0m\u001b[0;34m\u001b[0m\u001b[0;34m\u001b[0m\u001b[0m\n\u001b[1;32m      3\u001b[0m \u001b[0;34m\u001b[0m\u001b[0m\n\u001b[1;32m      4\u001b[0m \u001b[0;36m1.\u001b[0m \u001b[0mThesis\u001b[0m \u001b[0;34m&\u001b[0m \u001b[0mMain\u001b[0m \u001b[0mArgument\u001b[0m\u001b[0;34m\u001b[0m\u001b[0;34m\u001b[0m\u001b[0m\n\u001b[1;32m      5\u001b[0m \u001b[0;34m-\u001b[0m \u001b[0mClear\u001b[0m\u001b[0;34m,\u001b[0m \u001b[0mspecific\u001b[0m \u001b[0mthesis\u001b[0m \u001b[0mstatement\u001b[0m\u001b[0;34m\u001b[0m\u001b[0;34m\u001b[0m\u001b[0m\n",
            "\u001b[0;32m/usr/local/lib/python3.11/dist-packages/langchain_core/prompts/chat.py\u001b[0m in \u001b[0;36m__init__\u001b[0;34m(self, messages, template_format, **kwargs)\u001b[0m\n\u001b[1;32m   1000\u001b[0m \u001b[0;34m\u001b[0m\u001b[0m\n\u001b[1;32m   1001\u001b[0m         \"\"\"\n\u001b[0;32m-> 1002\u001b[0;31m         _messages = [\n\u001b[0m\u001b[1;32m   1003\u001b[0m             \u001b[0m_convert_to_message\u001b[0m\u001b[0;34m(\u001b[0m\u001b[0mmessage\u001b[0m\u001b[0;34m,\u001b[0m \u001b[0mtemplate_format\u001b[0m\u001b[0;34m)\u001b[0m \u001b[0;32mfor\u001b[0m \u001b[0mmessage\u001b[0m \u001b[0;32min\u001b[0m \u001b[0mmessages\u001b[0m\u001b[0;34m\u001b[0m\u001b[0;34m\u001b[0m\u001b[0m\n\u001b[1;32m   1004\u001b[0m         ]\n",
            "\u001b[0;32m/usr/local/lib/python3.11/dist-packages/langchain_core/prompts/chat.py\u001b[0m in \u001b[0;36m<listcomp>\u001b[0;34m(.0)\u001b[0m\n\u001b[1;32m   1001\u001b[0m         \"\"\"\n\u001b[1;32m   1002\u001b[0m         _messages = [\n\u001b[0;32m-> 1003\u001b[0;31m             \u001b[0m_convert_to_message\u001b[0m\u001b[0;34m(\u001b[0m\u001b[0mmessage\u001b[0m\u001b[0;34m,\u001b[0m \u001b[0mtemplate_format\u001b[0m\u001b[0;34m)\u001b[0m \u001b[0;32mfor\u001b[0m \u001b[0mmessage\u001b[0m \u001b[0;32min\u001b[0m \u001b[0mmessages\u001b[0m\u001b[0;34m\u001b[0m\u001b[0;34m\u001b[0m\u001b[0m\n\u001b[0m\u001b[1;32m   1004\u001b[0m         ]\n\u001b[1;32m   1005\u001b[0m \u001b[0;34m\u001b[0m\u001b[0m\n",
            "\u001b[0;32m/usr/local/lib/python3.11/dist-packages/langchain_core/prompts/chat.py\u001b[0m in \u001b[0;36m_convert_to_message\u001b[0;34m(message, template_format)\u001b[0m\n\u001b[1;32m   1460\u001b[0m         \u001b[0m_message\u001b[0m \u001b[0;34m=\u001b[0m \u001b[0mmessage\u001b[0m\u001b[0;34m\u001b[0m\u001b[0;34m\u001b[0m\u001b[0m\n\u001b[1;32m   1461\u001b[0m     \u001b[0;32melif\u001b[0m \u001b[0misinstance\u001b[0m\u001b[0;34m(\u001b[0m\u001b[0mmessage\u001b[0m\u001b[0;34m,\u001b[0m \u001b[0mstr\u001b[0m\u001b[0;34m)\u001b[0m\u001b[0;34m:\u001b[0m\u001b[0;34m\u001b[0m\u001b[0;34m\u001b[0m\u001b[0m\n\u001b[0;32m-> 1462\u001b[0;31m         _message = _create_template_from_message_type(\n\u001b[0m\u001b[1;32m   1463\u001b[0m             \u001b[0;34m\"human\"\u001b[0m\u001b[0;34m,\u001b[0m \u001b[0mmessage\u001b[0m\u001b[0;34m,\u001b[0m \u001b[0mtemplate_format\u001b[0m\u001b[0;34m=\u001b[0m\u001b[0mtemplate_format\u001b[0m\u001b[0;34m\u001b[0m\u001b[0;34m\u001b[0m\u001b[0m\n\u001b[1;32m   1464\u001b[0m         )\n",
            "\u001b[0;32m/usr/local/lib/python3.11/dist-packages/langchain_core/prompts/chat.py\u001b[0m in \u001b[0;36m_create_template_from_message_type\u001b[0;34m(message_type, template, template_format)\u001b[0m\n\u001b[1;32m   1376\u001b[0m     \"\"\"\n\u001b[1;32m   1377\u001b[0m     \u001b[0;32mif\u001b[0m \u001b[0mmessage_type\u001b[0m \u001b[0;32min\u001b[0m \u001b[0;34m(\u001b[0m\u001b[0;34m\"human\"\u001b[0m\u001b[0;34m,\u001b[0m \u001b[0;34m\"user\"\u001b[0m\u001b[0;34m)\u001b[0m\u001b[0;34m:\u001b[0m\u001b[0;34m\u001b[0m\u001b[0;34m\u001b[0m\u001b[0m\n\u001b[0;32m-> 1378\u001b[0;31m         message: BaseMessagePromptTemplate = HumanMessagePromptTemplate.from_template(\n\u001b[0m\u001b[1;32m   1379\u001b[0m             \u001b[0mtemplate\u001b[0m\u001b[0;34m,\u001b[0m \u001b[0mtemplate_format\u001b[0m\u001b[0;34m=\u001b[0m\u001b[0mtemplate_format\u001b[0m\u001b[0;34m\u001b[0m\u001b[0;34m\u001b[0m\u001b[0m\n\u001b[1;32m   1380\u001b[0m         )\n",
            "\u001b[0;32m/usr/local/lib/python3.11/dist-packages/langchain_core/prompts/chat.py\u001b[0m in \u001b[0;36mfrom_template\u001b[0;34m(cls, template, template_format, partial_variables, **kwargs)\u001b[0m\n\u001b[1;32m    512\u001b[0m         \"\"\"\n\u001b[1;32m    513\u001b[0m         \u001b[0;32mif\u001b[0m \u001b[0misinstance\u001b[0m\u001b[0;34m(\u001b[0m\u001b[0mtemplate\u001b[0m\u001b[0;34m,\u001b[0m \u001b[0mstr\u001b[0m\u001b[0;34m)\u001b[0m\u001b[0;34m:\u001b[0m\u001b[0;34m\u001b[0m\u001b[0;34m\u001b[0m\u001b[0m\n\u001b[0;32m--> 514\u001b[0;31m             prompt: Union[StringPromptTemplate, list] = PromptTemplate.from_template(\n\u001b[0m\u001b[1;32m    515\u001b[0m                 \u001b[0mtemplate\u001b[0m\u001b[0;34m,\u001b[0m\u001b[0;34m\u001b[0m\u001b[0;34m\u001b[0m\u001b[0m\n\u001b[1;32m    516\u001b[0m                 \u001b[0mtemplate_format\u001b[0m\u001b[0;34m=\u001b[0m\u001b[0mtemplate_format\u001b[0m\u001b[0;34m,\u001b[0m\u001b[0;34m\u001b[0m\u001b[0;34m\u001b[0m\u001b[0m\n",
            "\u001b[0;32m/usr/local/lib/python3.11/dist-packages/langchain_core/prompts/prompt.py\u001b[0m in \u001b[0;36mfrom_template\u001b[0;34m(cls, template, template_format, partial_variables, **kwargs)\u001b[0m\n\u001b[1;32m    285\u001b[0m             \u001b[0mThe\u001b[0m \u001b[0mprompt\u001b[0m \u001b[0mtemplate\u001b[0m \u001b[0mloaded\u001b[0m \u001b[0;32mfrom\u001b[0m \u001b[0mthe\u001b[0m \u001b[0mtemplate\u001b[0m\u001b[0;34m.\u001b[0m\u001b[0;34m\u001b[0m\u001b[0;34m\u001b[0m\u001b[0m\n\u001b[1;32m    286\u001b[0m         \"\"\"\n\u001b[0;32m--> 287\u001b[0;31m         \u001b[0minput_variables\u001b[0m \u001b[0;34m=\u001b[0m \u001b[0mget_template_variables\u001b[0m\u001b[0;34m(\u001b[0m\u001b[0mtemplate\u001b[0m\u001b[0;34m,\u001b[0m \u001b[0mtemplate_format\u001b[0m\u001b[0;34m)\u001b[0m\u001b[0;34m\u001b[0m\u001b[0;34m\u001b[0m\u001b[0m\n\u001b[0m\u001b[1;32m    288\u001b[0m         \u001b[0m_partial_variables\u001b[0m \u001b[0;34m=\u001b[0m \u001b[0mpartial_variables\u001b[0m \u001b[0;32mor\u001b[0m \u001b[0;34m{\u001b[0m\u001b[0;34m}\u001b[0m\u001b[0;34m\u001b[0m\u001b[0;34m\u001b[0m\u001b[0m\n\u001b[1;32m    289\u001b[0m \u001b[0;34m\u001b[0m\u001b[0m\n",
            "\u001b[0;32m/usr/local/lib/python3.11/dist-packages/langchain_core/prompts/string.py\u001b[0m in \u001b[0;36mget_template_variables\u001b[0;34m(template, template_format)\u001b[0m\n\u001b[1;32m    254\u001b[0m         \u001b[0minput_variables\u001b[0m \u001b[0;34m=\u001b[0m \u001b[0m_get_jinja2_variables_from_template\u001b[0m\u001b[0;34m(\u001b[0m\u001b[0mtemplate\u001b[0m\u001b[0;34m)\u001b[0m\u001b[0;34m\u001b[0m\u001b[0;34m\u001b[0m\u001b[0m\n\u001b[1;32m    255\u001b[0m     \u001b[0;32melif\u001b[0m \u001b[0mtemplate_format\u001b[0m \u001b[0;34m==\u001b[0m \u001b[0;34m\"f-string\"\u001b[0m\u001b[0;34m:\u001b[0m\u001b[0;34m\u001b[0m\u001b[0;34m\u001b[0m\u001b[0m\n\u001b[0;32m--> 256\u001b[0;31m         input_variables = {\n\u001b[0m\u001b[1;32m    257\u001b[0m             \u001b[0mv\u001b[0m \u001b[0;32mfor\u001b[0m \u001b[0m_\u001b[0m\u001b[0;34m,\u001b[0m \u001b[0mv\u001b[0m\u001b[0;34m,\u001b[0m \u001b[0m_\u001b[0m\u001b[0;34m,\u001b[0m \u001b[0m_\u001b[0m \u001b[0;32min\u001b[0m \u001b[0mFormatter\u001b[0m\u001b[0;34m(\u001b[0m\u001b[0;34m)\u001b[0m\u001b[0;34m.\u001b[0m\u001b[0mparse\u001b[0m\u001b[0;34m(\u001b[0m\u001b[0mtemplate\u001b[0m\u001b[0;34m)\u001b[0m \u001b[0;32mif\u001b[0m \u001b[0mv\u001b[0m \u001b[0;32mis\u001b[0m \u001b[0;32mnot\u001b[0m \u001b[0;32mNone\u001b[0m\u001b[0;34m\u001b[0m\u001b[0;34m\u001b[0m\u001b[0m\n\u001b[1;32m    258\u001b[0m         }\n",
            "\u001b[0;32m/usr/local/lib/python3.11/dist-packages/langchain_core/prompts/string.py\u001b[0m in \u001b[0;36m<setcomp>\u001b[0;34m(.0)\u001b[0m\n\u001b[1;32m    254\u001b[0m         \u001b[0minput_variables\u001b[0m \u001b[0;34m=\u001b[0m \u001b[0m_get_jinja2_variables_from_template\u001b[0m\u001b[0;34m(\u001b[0m\u001b[0mtemplate\u001b[0m\u001b[0;34m)\u001b[0m\u001b[0;34m\u001b[0m\u001b[0;34m\u001b[0m\u001b[0m\n\u001b[1;32m    255\u001b[0m     \u001b[0;32melif\u001b[0m \u001b[0mtemplate_format\u001b[0m \u001b[0;34m==\u001b[0m \u001b[0;34m\"f-string\"\u001b[0m\u001b[0;34m:\u001b[0m\u001b[0;34m\u001b[0m\u001b[0;34m\u001b[0m\u001b[0m\n\u001b[0;32m--> 256\u001b[0;31m         input_variables = {\n\u001b[0m\u001b[1;32m    257\u001b[0m             \u001b[0mv\u001b[0m \u001b[0;32mfor\u001b[0m \u001b[0m_\u001b[0m\u001b[0;34m,\u001b[0m \u001b[0mv\u001b[0m\u001b[0;34m,\u001b[0m \u001b[0m_\u001b[0m\u001b[0;34m,\u001b[0m \u001b[0m_\u001b[0m \u001b[0;32min\u001b[0m \u001b[0mFormatter\u001b[0m\u001b[0;34m(\u001b[0m\u001b[0;34m)\u001b[0m\u001b[0;34m.\u001b[0m\u001b[0mparse\u001b[0m\u001b[0;34m(\u001b[0m\u001b[0mtemplate\u001b[0m\u001b[0;34m)\u001b[0m \u001b[0;32mif\u001b[0m \u001b[0mv\u001b[0m \u001b[0;32mis\u001b[0m \u001b[0;32mnot\u001b[0m \u001b[0;32mNone\u001b[0m\u001b[0;34m\u001b[0m\u001b[0;34m\u001b[0m\u001b[0m\n\u001b[1;32m    258\u001b[0m         }\n",
            "\u001b[0;31mValueError\u001b[0m: Single '{' encountered in format string"
          ]
        }
      ]
    },
    {
      "cell_type": "code",
      "source": [
        "#Fayez\n",
        "from langchain.llms import LlamaCpp\n",
        "from langchain_openai import OpenAI\n",
        "from langchain.prompts import PromptTemplate\n",
        "from langchain.chains import LLMChain\n",
        "\n",
        "essay_grader_prompt = PromptTemplate(\n",
        "    input_variables=[\"essay_text\"],\n",
        "    template=\"\"\"\n",
        "You are an experienced essay grader. When given an essay, analyze it according to the following rubric, scoring each criterion from 0-10:\n",
        "\n",
        "1. Thesis & Main Argument\n",
        "- Clear, specific thesis statement\n",
        "- Consistent focus throughout the essay\n",
        "- Well-developed main arguments\n",
        "\n",
        "2. Evidence & Support\n",
        "- Relevant examples and evidence\n",
        "- Proper citation of sources\n",
        "- Effective integration of quotes/evidence\n",
        "\n",
        "3. Organization & Structure\n",
        "- Logical flow between paragraphs\n",
        "- Strong topic sentences\n",
        "- Effective transitions\n",
        "- Clear introduction and conclusion\n",
        "\n",
        "4. Critical Thinking\n",
        "- Depth of analysis\n",
        "- Consideration of counterarguments\n",
        "- Original insights\n",
        "- Logical reasoning\n",
        "\n",
        "5. Writing Mechanics\n",
        "- Grammar and spelling\n",
        "- Sentence structure variety\n",
        "- Academic vocabulary\n",
        "- Proper formatting\n",
        "\n",
        "For each essay, provide a structured and detailed evaluation as follows:\n",
        "\n",
        "1. Summary: A brief (2-3 sentences) summary of the main arguments and key points of the essay.\n",
        "2. Rubric Scores: Assign a score (0-10) for each criterion, along with a concise justification.\n",
        "3. Overall Score: Calculate the total score out of 50, ensuring fairness and consistency.\n",
        "4. Strengths: Identify three specific strengths of the essay.\n",
        "5. Areas for Improvement: Provide three actionable suggestions, including concrete examples for implementation.\n",
        "6. Final Feedback: A concluding paragraph with constructive feedback, focusing on the most impactful ways the writer can improve their next essay.\n",
        "\n",
        "Maintain a constructive and supportive tone, highlighting both strengths and areas for improvement without discouraging the writer.\n",
        "\n",
        "Please grade the following essay:\n",
        "\n",
        "{essay_text}\n",
        "\n",
        "\"\"\"\n",
        ")\n",
        "\n",
        "chain = LLMChain(llm=llm, prompt=essay_grader_prompt)\n",
        "result = chain.run(essay_text=essay_text)\n",
        "\n",
        "# essay_text=print(input(\"Enter your essay: \"))"
      ],
      "metadata": {
        "colab": {
          "base_uri": "https://localhost:8080/"
        },
        "id": "B70fEuN86fpy",
        "outputId": "f02ab0a0-6dbb-421f-8476-23ca2e332399"
      },
      "execution_count": null,
      "outputs": [
        {
          "output_type": "stream",
          "name": "stderr",
          "text": [
            "<ipython-input-6-96819a153b14>:59: LangChainDeprecationWarning: The method `Chain.run` was deprecated in langchain 0.1.0 and will be removed in 1.0. Use :meth:`~invoke` instead.\n",
            "  result = chain.run(essay_text=essay_text)\n"
          ]
        }
      ]
    },
    {
      "cell_type": "code",
      "source": [
        "essay_text=\"\"\"Formative experience no. 1: moot courts\n",
        "The Realities of Competing in Russia\n",
        "Moot courts were the most formative experiences of my university years. To grasp the significance, it's important to understand what a moot court meant for a student in a post-Soviet university compared to one at a Western institution, or at least, how it was when I participated.\n",
        "\n",
        "1. Moot courts were the only interesting thing to do\n",
        "Moot courts weren't just one option among many; they were the only truly interesting thing to do. The alternatives included daily lectures and seminars (3 to 5 per day), student conferences (I participated in 11 and eventually lost enthusiasm), and internships (typically sought in your 4th or 5th year if you weren’t doing a moot court). Beyond that, the options were sparse.\n",
        "\n",
        "2. Moot courts were a means of upward social mobility\n",
        "Moot courts were also a potential ladder for upward social mobility. Participating could earn you an interview with a law firm that you wouldn’t get otherwise.\n",
        "\n",
        "More importantly, it could expose you to new ways of thinking and introduce you to a reality you may not have known existed – opportunities to go abroad, pursue a master’s degree, or build an international career.\n",
        "\n",
        "3. Moot courts were a scarce resource\n",
        "At my university, moot courts were incredibly scarce. Only two were typically advertised – the Willem C. Vis International Commercial Arbitration Moot and the Philip C. Jessup International Law Moot Court Competition. Coaches prioritized winning over giving opportunities to more students, often selecting those who had participated before. This meant that out of 5 to 6 spots on the team, only 2 or 3 might be available to new participants. Considering the law faculty admitted about 500 people annually, the competition for these few spots was intense.\"\"\""
      ],
      "metadata": {
        "id": "2HnjyORoN6hF"
      },
      "execution_count": null,
      "outputs": []
    },
    {
      "cell_type": "code",
      "source": [
        "print(result)"
      ],
      "metadata": {
        "colab": {
          "base_uri": "https://localhost:8080/"
        },
        "id": "rYJoXD0yOoK0",
        "outputId": "0a84a59f-7530-45b1-b95d-0239b4a4e0bf"
      },
      "execution_count": null,
      "outputs": [
        {
          "output_type": "stream",
          "name": "stdout",
          "text": [
            "### Summary\n",
            "The essay discusses the author's formative experiences with moot courts during their university years in a post-Soviet context. It highlights three main points: the lack of engaging alternatives to moot courts, the potential for upward social mobility through participation, and the scarcity of opportunities available to students. The author emphasizes the unique significance of moot courts in shaping their academic and professional trajectory.\n",
            "\n",
            "### Rubric Scores\n",
            "\n",
            "1. **Thesis & Main Argument (7/10)**  \n",
            "   The thesis is implied rather than explicitly stated, focusing on the importance of moot courts. While the main arguments are present, they could be more clearly articulated and connected to a central thesis.\n",
            "\n",
            "2. **Evidence & Support (6/10)**  \n",
            "   The essay provides relevant examples, such as the limited availability of moot courts and their role in social mobility. However, it lacks citations or references to support claims, which weakens the overall argument.\n",
            "\n",
            "3. **Organization & Structure (7/10)**  \n",
            "   The essay has a logical structure with clear sections. Each point is presented in a separate paragraph, but transitions between ideas could be smoother to enhance the flow. The introduction could also better set up the conclusion.\n",
            "\n",
            "4. **Critical Thinking (6/10)**  \n",
            "   The analysis is somewhat superficial, primarily describing experiences without delving deeply into their implications. There is little consideration of counterarguments or alternative perspectives on moot courts.\n",
            "\n",
            "5. **Writing Mechanics (8/10)**  \n",
            "   The writing is generally clear and free of grammatical errors. Sentence structures are varied, and the vocabulary is appropriate for an academic context. However, some sentences could be more concise for clarity.\n",
            "\n",
            "### Overall Score: 34/50\n",
            "\n",
            "### Strengths\n",
            "1. **Personal Insight**: The essay provides a personal perspective on moot courts, making it relatable and engaging.\n",
            "2. **Clear Structure**: The organization of the essay into distinct sections helps convey the main points effectively.\n",
            "3. **Relevant Examples**: The author uses specific examples to illustrate the significance of moot courts in their academic journey.\n",
            "\n",
            "### Areas for Improvement\n",
            "1. **Thesis Clarity**: Strengthen the thesis statement by explicitly stating the main argument in the introduction. For example, \"Moot courts were not only a unique academic opportunity but also a crucial stepping stone for my professional development.\"\n",
            "2. **Evidence and Citations**: Incorporate citations or references to support claims about the impact of moot courts. For instance, including statistics or studies on the benefits of moot court participation could enhance credibility.\n",
            "3. **Depth of Analysis**: Expand on the implications of the experiences shared. Consider discussing how these experiences shaped the author's worldview or career aspirations, and address potential counterarguments regarding the accessibility of moot courts.\n",
            "\n",
            "### Final Feedback\n",
            "Overall, this essay presents a compelling narrative about the author's experiences with moot courts, but it would benefit from a clearer thesis and deeper analysis. By incorporating more evidence and refining the structure, the author can create a more persuasive and impactful essay. Focusing on these areas will not only strengthen future essays but also enhance the overall academic writing skills. Keep up the good work, and I look forward to seeing how you develop your ideas in your next piece!\n"
          ]
        }
      ]
    },
    {
      "cell_type": "code",
      "source": [
        "!pip install google-search-results"
      ],
      "metadata": {
        "colab": {
          "base_uri": "https://localhost:8080/"
        },
        "id": "ahlacDvzBrKH",
        "outputId": "30881a36-0bdf-4f97-fa5b-3898ca4f1065"
      },
      "execution_count": null,
      "outputs": [
        {
          "output_type": "stream",
          "name": "stdout",
          "text": [
            "Collecting google-search-results\n",
            "  Downloading google_search_results-2.4.2.tar.gz (18 kB)\n",
            "  Preparing metadata (setup.py) ... \u001b[?25l\u001b[?25hdone\n",
            "Requirement already satisfied: requests in /usr/local/lib/python3.11/dist-packages (from google-search-results) (2.32.3)\n",
            "Requirement already satisfied: charset-normalizer<4,>=2 in /usr/local/lib/python3.11/dist-packages (from requests->google-search-results) (3.4.1)\n",
            "Requirement already satisfied: idna<4,>=2.5 in /usr/local/lib/python3.11/dist-packages (from requests->google-search-results) (3.10)\n",
            "Requirement already satisfied: urllib3<3,>=1.21.1 in /usr/local/lib/python3.11/dist-packages (from requests->google-search-results) (2.3.0)\n",
            "Requirement already satisfied: certifi>=2017.4.17 in /usr/local/lib/python3.11/dist-packages (from requests->google-search-results) (2025.1.31)\n",
            "Building wheels for collected packages: google-search-results\n",
            "  Building wheel for google-search-results (setup.py) ... \u001b[?25l\u001b[?25hdone\n",
            "  Created wheel for google-search-results: filename=google_search_results-2.4.2-py3-none-any.whl size=32009 sha256=1008d7905ba706693c02de9f4fd437f9fea2dcdec72809de68f520b920d981b5\n",
            "  Stored in directory: /root/.cache/pip/wheels/6e/42/3e/aeb691b02cb7175ec70e2da04b5658d4739d2b41e5f73cd06f\n",
            "Successfully built google-search-results\n",
            "Installing collected packages: google-search-results\n",
            "Successfully installed google-search-results-2.4.2\n"
          ]
        }
      ]
    },
    {
      "cell_type": "code",
      "source": [
        "#Agent\n",
        "from langchain.agents import AgentType, initialize_agent\n",
        "from langchain.tools import tool\n",
        "from langchain.utilities import SerpAPIWrapper\n",
        "from langchain.prompts import PromptTemplate\n",
        "\n",
        "# Plagiarism detection tool\n",
        "serpapi_api_key=\"31d166d1579b1e152efb9f7e71cd1a55151f819af90d9eb9e4cb1d700a6bbaec\"\n",
        "@tool\n",
        "def plagiarism_check(text: str) -> str:\n",
        "    \"\"\"Checks if an essay is plagiarized by searching the internet for similar content.\"\"\"\n",
        "\n",
        "    # 🔹 Step 1: Search the web\n",
        "    search = SerpAPIWrapper(serpapi_api_key=serpapi_api_key)\n",
        "    web_results = search.run(text)\n",
        "\n",
        "    # 🔹 Step 2: Analyze with GPT-4o-mini\n",
        "    if not web_results:\n",
        "        return \"No plagiarism detected. No matching content found online.\"\n",
        "\n",
        "    analysis_prompt = PromptTemplate(\n",
        "    input_variables=[\"text\", \"web_results\"],\n",
        "    template=(\"\"\"\n",
        "        Analyze the following web search results and determine if the input text is plagiarized.\\n\\n\n",
        "        Essay:\\n{text}\\n\\n\n",
        "        Web Results:\\n{web_results}\\n\\n\n",
        "        Should we flag this as plagiarism? If yes, explain why\n",
        "\n",
        "        at the end give a score out of 100% is this essay is plagiarized\n",
        "        \"\"\"\n",
        "    )\n",
        ")\n",
        "\n",
        "    formatted_prompt = analysis_prompt.format(text=text, web_results=web_results)\n",
        "    result = llm.predict(formatted_prompt)\n",
        "\n",
        "    return result\n",
        "\n",
        "# Initialize agent\n",
        "tools = [plagiarism_check]\n",
        "agent = initialize_agent(tools, llm, agent=AgentType.ZERO_SHOT_REACT_DESCRIPTION, verbose=True)\n"
      ],
      "metadata": {
        "id": "Y2lK6QRqOtFM"
      },
      "execution_count": null,
      "outputs": []
    },
    {
      "cell_type": "code",
      "source": [
        "\n",
        "essay_text = \"Artificial Intelligence is transforming education by providing personalized learning experiences.\"\n",
        "agent.run(f\"Check if this essay is plagiarized: {essay_text}\")\n"
      ],
      "metadata": {
        "colab": {
          "base_uri": "https://localhost:8080/",
          "height": 596
        },
        "id": "6wBKe8uH_cvM",
        "outputId": "621226dc-2c0f-41b8-cde7-6bb5d7921678"
      },
      "execution_count": null,
      "outputs": [
        {
          "output_type": "stream",
          "name": "stdout",
          "text": [
            "\n",
            "\n",
            "\u001b[1m> Entering new AgentExecutor chain...\u001b[0m\n",
            "\u001b[32;1m\u001b[1;3mI need to check if the provided text is plagiarized by searching for similar content on the internet. \n",
            "Action: plagiarism_check\n",
            "Action Input: \"Artificial Intelligence is transforming education by providing personalized learning experiences.\"\u001b[0m"
          ]
        },
        {
          "output_type": "stream",
          "name": "stderr",
          "text": [
            "<ipython-input-6-6eded8137a7e>:35: LangChainDeprecationWarning: The method `BaseChatModel.predict` was deprecated in langchain-core 0.1.7 and will be removed in 1.0. Use :meth:`~invoke` instead.\n",
            "  result = llm.predict(formatted_prompt)\n"
          ]
        },
        {
          "output_type": "stream",
          "name": "stdout",
          "text": [
            "\n",
            "Observation: \u001b[36;1m\u001b[1;3mBased on the analysis of the provided essay and the web search results, the input text states: \"Artificial Intelligence is transforming education by providing personalized learning experiences.\" \n",
            "\n",
            "The web search results contain several phrases that are quite similar in meaning and structure to the input text. For example:\n",
            "\n",
            "1. \"AI is revolutionizing education by tailoring learning experiences to individual students' needs...\"\n",
            "2. \"Artificial intelligence is revolutionizing the education sector, providing personalized learning experiences...\"\n",
            "3. \"By leveraging technologies... AI can tailor personalized...\"\n",
            "\n",
            "These results indicate that the concept of AI transforming education through personalized learning is a common theme in existing literature. However, the specific phrasing of the input text is not an exact match to any of the web results. \n",
            "\n",
            "While the idea presented in the essay is widely discussed and similar to the content found in the search results, the sentence itself does not appear to be directly copied from any source. It is a general statement that reflects a common understanding of the role of AI in education.\n",
            "\n",
            "**Conclusion:**\n",
            "- The input text does not contain direct plagiarism, as it does not copy any specific phrases or sentences from the web results.\n",
            "- However, it does express a widely recognized idea that is prevalent in discussions about AI in education.\n",
            "\n",
            "**Score: 10%** (indicating minimal risk of plagiarism due to the commonality of the idea, but not direct copying).\u001b[0m\n",
            "Thought:\u001b[32;1m\u001b[1;3mI now know the final answer\n",
            "Final Answer: The essay does not contain direct plagiarism, as it does not copy any specific phrases or sentences from existing sources. However, it expresses a widely recognized idea about AI in education, resulting in a minimal risk of plagiarism (10%).\u001b[0m\n",
            "\n",
            "\u001b[1m> Finished chain.\u001b[0m\n"
          ]
        },
        {
          "output_type": "execute_result",
          "data": {
            "text/plain": [
              "'The essay does not contain direct plagiarism, as it does not copy any specific phrases or sentences from existing sources. However, it expresses a widely recognized idea about AI in education, resulting in a minimal risk of plagiarism (10%).'"
            ],
            "application/vnd.google.colaboratory.intrinsic+json": {
              "type": "string"
            }
          },
          "metadata": {},
          "execution_count": 7
        }
      ]
    },
    {
      "cell_type": "code",
      "source": [],
      "metadata": {
        "id": "u7mexKNhOx99"
      },
      "execution_count": null,
      "outputs": []
    }
  ]
}